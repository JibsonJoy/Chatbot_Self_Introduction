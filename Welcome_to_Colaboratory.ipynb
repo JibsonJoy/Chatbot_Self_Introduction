{
  "cells": [
    {
      "cell_type": "markdown",
      "source": [
        "# MY SELF INTRODUCTION"
      ],
      "metadata": {
        "id": "MiPx6ZQfWGGc"
      }
    },
    {
      "cell_type": "markdown",
      "source": [
        "## Import Natural Language Toolkit"
      ],
      "metadata": {
        "id": "yqwuAM46Pf_C"
      }
    },
    {
      "cell_type": "code",
      "source": [
        "import nltk\n",
        "from nltk.chat.util import Chat,reflections"
      ],
      "metadata": {
        "id": "qug1qjp7PCTY"
      },
      "execution_count": 2,
      "outputs": []
    },
    {
      "cell_type": "code",
      "source": [
        "print(Chat)"
      ],
      "metadata": {
        "colab": {
          "base_uri": "https://localhost:8080/"
        },
        "id": "bkj_uXktPR-I",
        "outputId": "9f3ceca7-001a-4100-87d4-2df5e168559b"
      },
      "execution_count": 3,
      "outputs": [
        {
          "output_type": "stream",
          "name": "stdout",
          "text": [
            "<class 'nltk.chat.util.Chat'>\n"
          ]
        }
      ]
    },
    {
      "cell_type": "code",
      "source": [
        "reflections  #It is in the form of Dictionary"
      ],
      "metadata": {
        "colab": {
          "base_uri": "https://localhost:8080/"
        },
        "id": "2jJNZcBFPoHC",
        "outputId": "f80b24c5-0116-4861-ef0e-ccb6979dbe1b"
      },
      "execution_count": 5,
      "outputs": [
        {
          "output_type": "execute_result",
          "data": {
            "text/plain": [
              "{'i am': 'you are',\n",
              " 'i was': 'you were',\n",
              " 'i': 'you',\n",
              " \"i'm\": 'you are',\n",
              " \"i'd\": 'you would',\n",
              " \"i've\": 'you have',\n",
              " \"i'll\": 'you will',\n",
              " 'my': 'your',\n",
              " 'you are': 'I am',\n",
              " 'you were': 'I was',\n",
              " \"you've\": 'I have',\n",
              " \"you'll\": 'I will',\n",
              " 'your': 'my',\n",
              " 'yours': 'mine',\n",
              " 'you': 'me',\n",
              " 'me': 'you'}"
            ]
          },
          "metadata": {},
          "execution_count": 5
        }
      ]
    },
    {
      "cell_type": "markdown",
      "source": [
        "### Store the Questions and Answers"
      ],
      "metadata": {
        "id": "J6ZgEj43WMpU"
      }
    },
    {
      "cell_type": "code",
      "source": [
        "set_pairs =[\n",
        "    [\n",
        "        r\"Hello\",\n",
        "     [\"Hello how are you today?\",]\n",
        "    ],\n",
        "    [\n",
        "        r\"What's your name?\",\n",
        "     [\"My name is jibson joy\",]\n",
        "\n",
        "    ],\n",
        "    [\n",
        "        r\"Introduce Yourself\",\n",
        "     [\"First off all thanku for giving me a opportunity to introduce myself./nMy name is Jibson Joy and iam coming from Kerala,iam a Bcom Graduate specialized in Computer Applocation.Along with my degree, Iam pursuing a certification course in Big Data Science which includes machine learning,deep learning,AI,Database Management system and the programming languages Python and SQL.As a part of this course , the various technologies that i have learnt have helped me develop  projects.Thats all about me THANKS!\"]\n",
        "    ]\n",
        "]"
      ],
      "metadata": {
        "id": "m4z7tkGpPqPs"
      },
      "execution_count": null,
      "outputs": []
    },
    {
      "cell_type": "code",
      "source": [
        "def chatbot():\n",
        "  print(\"Hi iam self introduction chatbot\")\n",
        "\n",
        "chatbot()"
      ],
      "metadata": {
        "colab": {
          "base_uri": "https://localhost:8080/"
        },
        "id": "YbbaWIjAQyw1",
        "outputId": "5b02e60b-b479-42ef-e250-66ed810a08a0"
      },
      "execution_count": 23,
      "outputs": [
        {
          "output_type": "stream",
          "name": "stdout",
          "text": [
            "Hi iam self introduction chatbot\n"
          ]
        }
      ]
    },
    {
      "cell_type": "code",
      "source": [
        "chat = Chat(set_pairs,reflections)\n",
        "print(chat)"
      ],
      "metadata": {
        "id": "lrmV1HknRlfb"
      },
      "execution_count": null,
      "outputs": []
    },
    {
      "cell_type": "code",
      "source": [
        "chat.converse()\n",
        "if __name__ ==\"__main__\":\n",
        "  chatbot()"
      ],
      "metadata": {
        "id": "4s8UACGCRv4g"
      },
      "execution_count": null,
      "outputs": []
    },
    {
      "cell_type": "code",
      "source": [],
      "metadata": {
        "id": "21_edvdWR7N7"
      },
      "execution_count": null,
      "outputs": []
    }
  ],
  "metadata": {
    "colab": {
      "collapsed_sections": [],
      "name": "Welcome to Colaboratory",
      "provenance": []
    },
    "kernelspec": {
      "display_name": "Python 3",
      "name": "python3"
    },
    "accelerator": "GPU",
    "gpuClass": "standard"
  },
  "nbformat": 4,
  "nbformat_minor": 0
}